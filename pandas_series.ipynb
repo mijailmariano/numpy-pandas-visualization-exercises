{
 "cells": [
  {
   "cell_type": "code",
   "execution_count": null,
   "metadata": {},
   "outputs": [],
   "source": [
    "import pandas as pd\n",
    "import numpy as np\n",
    "import matplotlib.pyplot as plt\n",
    "import math\n",
    "import random\n",
    "from random import randint\n",
    "\n",
    "fruits = pd.Series([\"kiwi\", \"mango\", \"strawberry\", \"pineapple\", \"gala apple\", \"honeycrisp apple\", \"tomato\", \"watermelon\", \"honeydew\", \"kiwi\", \"kiwi\", \"kiwi\", \"mango\", \"blueberry\", \"blackberry\", \"gooseberry\", \"papaya\"])"
   ]
  },
  {
   "cell_type": "code",
   "execution_count": null,
   "metadata": {},
   "outputs": [
    {
     "data": {
      "text/plain": [
       "count       17\n",
       "unique      13\n",
       "top       kiwi\n",
       "freq         4\n",
       "dtype: object"
      ]
     },
     "execution_count": 3,
     "metadata": {},
     "output_type": "execute_result"
    }
   ],
   "source": [
    "# 1. \n",
    "# Determine the number of elements in fruits\n",
    "\n",
    "fruits.describe() # number of elements or 'n' = 17"
   ]
  },
  {
   "cell_type": "code",
   "execution_count": null,
   "metadata": {},
   "outputs": [
    {
     "data": {
      "text/plain": [
       "RangeIndex(start=0, stop=17, step=1)"
      ]
     },
     "execution_count": 4,
     "metadata": {},
     "output_type": "execute_result"
    }
   ],
   "source": [
    "#  2. \n",
    "#  Output only the index from fruits\n",
    "\n",
    "fruits.index # RangeIndex(start=0, stop=17, step=1)"
   ]
  },
  {
   "cell_type": "code",
   "execution_count": null,
   "metadata": {},
   "outputs": [
    {
     "data": {
      "text/plain": [
       "array(['kiwi', 'mango', 'strawberry', 'pineapple', 'gala apple',\n",
       "       'honeycrisp apple', 'tomato', 'watermelon', 'honeydew', 'kiwi',\n",
       "       'kiwi', 'kiwi', 'mango', 'blueberry', 'blackberry', 'gooseberry',\n",
       "       'papaya'], dtype=object)"
      ]
     },
     "execution_count": 5,
     "metadata": {},
     "output_type": "execute_result"
    }
   ],
   "source": [
    "# 3.\n",
    "# Output only the values from fruits\n",
    "\n",
    "fruits.values"
   ]
  },
  {
   "cell_type": "code",
   "execution_count": null,
   "metadata": {},
   "outputs": [
    {
     "data": {
      "text/plain": [
       "\"\\n'b'       boolean\\n'i'       (signed) integer\\n'u'       unsigned integer\\n'f'       floating-point\\n'c'       complex-floating point\\n'O'       (Python) objects\\n'S', 'a'  (byte-)string\\n'U'       Unicode\\n'V'       raw data (void)\\n\""
      ]
     },
     "execution_count": 6,
     "metadata": {},
     "output_type": "execute_result"
    }
   ],
   "source": [
    "# 4. \n",
    "# Confirm the data type of the values in fruits\n",
    "\n",
    "fruits.dtype # data type is 'objects'\n",
    "\n",
    "# note the following 'type codes'\n",
    "'''\n",
    "'b'       boolean\n",
    "'i'       (signed) integer\n",
    "'u'       unsigned integer\n",
    "'f'       floating-point\n",
    "'c'       complex-floating point\n",
    "'O'       (Python) objects\n",
    "'S', 'a'  (byte-)string\n",
    "'U'       Unicode\n",
    "'V'       raw data (void)\n",
    "'''"
   ]
  },
  {
   "cell_type": "code",
   "execution_count": 7,
   "metadata": {},
   "outputs": [
    {
     "data": {
      "text/plain": [
       "0          kiwi\n",
       "1         mango\n",
       "2    strawberry\n",
       "3     pineapple\n",
       "4    gala apple\n",
       "dtype: object"
      ]
     },
     "execution_count": 7,
     "metadata": {},
     "output_type": "execute_result"
    }
   ],
   "source": [
    "# 5a. \n",
    "# Output only the first five values from fruits. \n",
    "\n",
    "fruits.head(5)\n"
   ]
  },
  {
   "cell_type": "code",
   "execution_count": 8,
   "metadata": {},
   "outputs": [
    {
     "data": {
      "text/plain": [
       "14    blackberry\n",
       "15    gooseberry\n",
       "16        papaya\n",
       "dtype: object"
      ]
     },
     "execution_count": 8,
     "metadata": {},
     "output_type": "execute_result"
    }
   ],
   "source": [
    "# 5b. \n",
    "# Output the last three values.\n",
    "\n",
    "fruits.tail(3)"
   ]
  },
  {
   "cell_type": "code",
   "execution_count": 9,
   "metadata": {},
   "outputs": [
    {
     "data": {
      "text/plain": [
       "16    papaya\n",
       "0       kiwi\n",
       "dtype: object"
      ]
     },
     "execution_count": 9,
     "metadata": {},
     "output_type": "execute_result"
    }
   ],
   "source": [
    "# 5c.\n",
    "# Output two random values from fruits\n",
    "\n",
    "fruits.sample(2)"
   ]
  },
  {
   "cell_type": "code",
   "execution_count": 10,
   "metadata": {},
   "outputs": [
    {
     "data": {
      "text/plain": [
       "count       17\n",
       "unique      13\n",
       "top       kiwi\n",
       "freq         4\n",
       "dtype: object"
      ]
     },
     "execution_count": 10,
     "metadata": {},
     "output_type": "execute_result"
    }
   ],
   "source": [
    "# 6. \n",
    "# Run the .describe() on fruits to see what information it returns when called on a Series with string values\n",
    "\n",
    "fruits.describe()\n",
    "\n",
    "# returns the series count, unique (strings), top string, and frequency of top string\n",
    "\n"
   ]
  },
  {
   "cell_type": "code",
   "execution_count": 11,
   "metadata": {},
   "outputs": [
    {
     "data": {
      "text/plain": [
       "array(['kiwi', 'mango', 'strawberry', 'pineapple', 'gala apple',\n",
       "       'honeycrisp apple', 'tomato', 'watermelon', 'honeydew',\n",
       "       'blueberry', 'blackberry', 'gooseberry', 'papaya'], dtype=object)"
      ]
     },
     "execution_count": 11,
     "metadata": {},
     "output_type": "execute_result"
    }
   ],
   "source": [
    "# 7.\n",
    "# Run the code necessary to produce only the unique string values from fruits\n",
    "\n",
    "fruits.unique()"
   ]
  },
  {
   "cell_type": "code",
   "execution_count": 12,
   "metadata": {},
   "outputs": [
    {
     "data": {
      "text/plain": [
       "kiwi                4\n",
       "mango               2\n",
       "strawberry          1\n",
       "pineapple           1\n",
       "gala apple          1\n",
       "honeycrisp apple    1\n",
       "tomato              1\n",
       "watermelon          1\n",
       "honeydew            1\n",
       "blueberry           1\n",
       "blackberry          1\n",
       "gooseberry          1\n",
       "papaya              1\n",
       "dtype: int64"
      ]
     },
     "execution_count": 12,
     "metadata": {},
     "output_type": "execute_result"
    }
   ],
   "source": [
    "# 8.\n",
    "# Determine how many times each unique string value occurs in fruits\n",
    "\n",
    "fruits.value_counts()"
   ]
  },
  {
   "cell_type": "code",
   "execution_count": 13,
   "metadata": {},
   "outputs": [
    {
     "data": {
      "text/plain": [
       "0    kiwi\n",
       "dtype: object"
      ]
     },
     "execution_count": 13,
     "metadata": {},
     "output_type": "execute_result"
    }
   ],
   "source": [
    "# 9.\n",
    "# Determine the string value that occurs most frequently in fruits\n",
    "\n",
    "fruits.mode() #may only work if there is one(1) mode > not sure how this method will handle bimodal, trimodal, etc."
   ]
  },
  {
   "cell_type": "code",
   "execution_count": 14,
   "metadata": {},
   "outputs": [
    {
     "data": {
      "text/plain": [
       "kiwi    4\n",
       "dtype: int64"
      ]
     },
     "execution_count": 14,
     "metadata": {},
     "output_type": "execute_result"
    }
   ],
   "source": [
    "fruits.value_counts().nlargest(n=1)"
   ]
  },
  {
   "cell_type": "code",
   "execution_count": 15,
   "metadata": {},
   "outputs": [
    {
     "data": {
      "text/plain": [
       "strawberry          1\n",
       "pineapple           1\n",
       "gala apple          1\n",
       "honeycrisp apple    1\n",
       "tomato              1\n",
       "watermelon          1\n",
       "honeydew            1\n",
       "blueberry           1\n",
       "blackberry          1\n",
       "gooseberry          1\n",
       "papaya              1\n",
       "dtype: int64"
      ]
     },
     "execution_count": 15,
     "metadata": {},
     "output_type": "execute_result"
    }
   ],
   "source": [
    "# 10.\n",
    "# Determine the string value that occurs least frequently in fruits\n",
    "\n",
    "lowest_freq_fruits = fruits[(fruits != 'kiwi') & (fruits != 'mango')]\n",
    "lowest_freq_fruits.value_counts()"
   ]
  },
  {
   "cell_type": "code",
   "execution_count": 16,
   "metadata": {},
   "outputs": [
    {
     "data": {
      "text/plain": [
       "strawberry          1\n",
       "pineapple           1\n",
       "gala apple          1\n",
       "honeycrisp apple    1\n",
       "tomato              1\n",
       "watermelon          1\n",
       "honeydew            1\n",
       "blueberry           1\n",
       "blackberry          1\n",
       "gooseberry          1\n",
       "papaya              1\n",
       "dtype: int64"
      ]
     },
     "execution_count": 16,
     "metadata": {},
     "output_type": "execute_result"
    }
   ],
   "source": [
    "fruits.value_counts().nsmallest(n=1, keep='all')"
   ]
  },
  {
   "cell_type": "code",
   "execution_count": 17,
   "metadata": {},
   "outputs": [],
   "source": [
    "# PART 2: Explore more attributes and methods while you continue to work with the fruits Series."
   ]
  },
  {
   "cell_type": "code",
   "execution_count": 18,
   "metadata": {},
   "outputs": [
    {
     "data": {
      "text/plain": [
       "0                 KIWI\n",
       "1                MANGO\n",
       "2           STRAWBERRY\n",
       "3            PINEAPPLE\n",
       "4           GALA APPLE\n",
       "5     HONEYCRISP APPLE\n",
       "6               TOMATO\n",
       "7           WATERMELON\n",
       "8             HONEYDEW\n",
       "9                 KIWI\n",
       "10                KIWI\n",
       "11                KIWI\n",
       "12               MANGO\n",
       "13           BLUEBERRY\n",
       "14          BLACKBERRY\n",
       "15          GOOSEBERRY\n",
       "16              PAPAYA\n",
       "dtype: object"
      ]
     },
     "execution_count": 18,
     "metadata": {},
     "output_type": "execute_result"
    }
   ],
   "source": [
    "# 1. Capitalize all the string values in fruits.\n",
    "\n",
    "fruits.str.upper()"
   ]
  },
  {
   "cell_type": "code",
   "execution_count": 19,
   "metadata": {},
   "outputs": [
    {
     "data": {
      "text/plain": [
       "14"
      ]
     },
     "execution_count": 19,
     "metadata": {},
     "output_type": "execute_result"
    }
   ],
   "source": [
    "# 2. Count the letter \"a\" in all the string values (use string vectorization)\n",
    "\n",
    "fruits.str.count('a')\n",
    "fruits[fruits.str.count('a')] # counting all letter 'a' in each word in the series\n",
    "# fruits[fruits.str.contains('a')]\n",
    "\n",
    "sum(fruits.str.count('a')) # counting all letter 'a' in the series \n",
    "\n"
   ]
  },
  {
   "cell_type": "code",
   "execution_count": 20,
   "metadata": {},
   "outputs": [
    {
     "data": {
      "text/plain": [
       "0     2\n",
       "1     2\n",
       "2     2\n",
       "3     4\n",
       "4     4\n",
       "5     5\n",
       "6     3\n",
       "7     4\n",
       "8     3\n",
       "9     2\n",
       "10    2\n",
       "11    2\n",
       "12    2\n",
       "13    3\n",
       "14    2\n",
       "15    4\n",
       "16    3\n",
       "dtype: int64"
      ]
     },
     "execution_count": 20,
     "metadata": {},
     "output_type": "execute_result"
    }
   ],
   "source": [
    "# 3. Output the number of vowels in each and every string value.\n",
    "\n",
    "# fruits[fruits.str.count('[aeiou]')]\n",
    "# sum(fruits.str.count('[aeiou]'))\n",
    "\n",
    "def vowel_count(string):\n",
    "    counter = 0\n",
    "    for char in string:\n",
    "        if char in 'aeiou':\n",
    "            counter += 1\n",
    "    return counter\n",
    "\n",
    "# print(vowel_count('hello')) # should return 2 for two vowels\n",
    "\n",
    "fruits.apply(vowel_count)\n"
   ]
  },
  {
   "cell_type": "code",
   "execution_count": 21,
   "metadata": {},
   "outputs": [
    {
     "data": {
      "text/plain": [
       "'honeycrisp apple'"
      ]
     },
     "execution_count": 21,
     "metadata": {},
     "output_type": "execute_result"
    }
   ],
   "source": [
    "# 4. Write the code to get the longest string value from fruits.\n",
    "\n",
    "# notes\n",
    "# use '.str' attributes \n",
    "# use 'len()' string method to determine length character of each string\n",
    "# extract / find longest string value in series \n",
    "# should be 'honeycrisp apple' at 16 characters\n",
    "\n",
    "# fruits\n",
    "\n",
    "fruits[fruits.str.len().nlargest(n=1).index]\n",
    "fruits[fruits.str.len().idxmax()]\n",
    "\n",
    "\n"
   ]
  },
  {
   "cell_type": "code",
   "execution_count": 22,
   "metadata": {},
   "outputs": [
    {
     "data": {
      "text/plain": [
       "2           strawberry\n",
       "3            pineapple\n",
       "4           gala apple\n",
       "5     honeycrisp apple\n",
       "6               tomato\n",
       "7           watermelon\n",
       "8             honeydew\n",
       "13           blueberry\n",
       "14          blackberry\n",
       "15          gooseberry\n",
       "16              papaya\n",
       "dtype: object"
      ]
     },
     "execution_count": 22,
     "metadata": {},
     "output_type": "execute_result"
    }
   ],
   "source": [
    "# 5. Write the code to get the string values with 5 or more letters in the name.\n",
    "\n",
    "greater_than_5 = fruits.apply(lambda n: \"True\" if len(n) > 5 else 'False')\n",
    "fruits[greater_than_5 == 'True']\n"
   ]
  },
  {
   "cell_type": "code",
   "execution_count": 23,
   "metadata": {},
   "outputs": [
    {
     "data": {
      "text/plain": [
       "6         tomato\n",
       "15    gooseberry\n",
       "dtype: object"
      ]
     },
     "execution_count": 23,
     "metadata": {},
     "output_type": "execute_result"
    }
   ],
   "source": [
    "# 6. Find the fruit(s) containing the letter \"o\" two or more times\n",
    "\n",
    "fruits.str.contains('o')\n",
    "fruits[(fruits.str.contains('o')) & (fruits.str.count('o')>=2)] \n",
    "\n"
   ]
  },
  {
   "cell_type": "code",
   "execution_count": 24,
   "metadata": {},
   "outputs": [
    {
     "data": {
      "text/plain": [
       "2     strawberry\n",
       "13     blueberry\n",
       "14    blackberry\n",
       "15    gooseberry\n",
       "dtype: object"
      ]
     },
     "execution_count": 24,
     "metadata": {},
     "output_type": "execute_result"
    }
   ],
   "source": [
    "# 7. Write the code to get only the string values containing the substring \"berry\".\n",
    "\n",
    "fruits.str.contains('berry')\n",
    "\n",
    "fruits[fruits.str.contains('berry')]"
   ]
  },
  {
   "cell_type": "code",
   "execution_count": 25,
   "metadata": {},
   "outputs": [
    {
     "data": {
      "text/plain": [
       "3           pineapple\n",
       "4          gala apple\n",
       "5    honeycrisp apple\n",
       "dtype: object"
      ]
     },
     "execution_count": 25,
     "metadata": {},
     "output_type": "execute_result"
    }
   ],
   "source": [
    "# 8. Write the code to get only the string values containing the substring \"apple\"\n",
    "\n",
    "apple = fruits.str.contains('apple')\n",
    "fruits[apple]"
   ]
  },
  {
   "cell_type": "code",
   "execution_count": 26,
   "metadata": {},
   "outputs": [
    {
     "data": {
      "text/plain": [
       "5    honeycrisp apple\n",
       "dtype: object"
      ]
     },
     "execution_count": 26,
     "metadata": {},
     "output_type": "execute_result"
    }
   ],
   "source": [
    "# 9. Which string value contains the most vowels?\n",
    "\n",
    "fruits[fruits.str.count('[aeiou]').nlargest(n=1, keep='all')]"
   ]
  },
  {
   "cell_type": "code",
   "execution_count": 27,
   "metadata": {},
   "outputs": [
    {
     "data": {
      "text/plain": [
       "5    honeycrisp apple\n",
       "dtype: object"
      ]
     },
     "execution_count": 27,
     "metadata": {},
     "output_type": "execute_result"
    }
   ],
   "source": [
    "# 9. alternative approaches\n",
    "\n",
    "# fruits[fruits.apply(vowel_count).idxmax()]\n",
    "fruits[fruits.apply(vowel_count).nlargest(n=1)]"
   ]
  },
  {
   "cell_type": "code",
   "execution_count": 28,
   "metadata": {},
   "outputs": [],
   "source": [
    "# PART 3 \n",
    "import example_letters\n",
    "from example_letters import letters"
   ]
  },
  {
   "cell_type": "code",
   "execution_count": 29,
   "metadata": {},
   "outputs": [
    {
     "data": {
      "text/plain": [
       "0      h\n",
       "1      n\n",
       "2      v\n",
       "3      i\n",
       "4      d\n",
       "      ..\n",
       "195    r\n",
       "196    o\n",
       "197    g\n",
       "198    u\n",
       "199    y\n",
       "Length: 200, dtype: object"
      ]
     },
     "execution_count": 29,
     "metadata": {},
     "output_type": "execute_result"
    }
   ],
   "source": [
    "letters = pd.Series(letters)\n",
    "letters"
   ]
  },
  {
   "cell_type": "code",
   "execution_count": 30,
   "metadata": {},
   "outputs": [
    {
     "data": {
      "text/plain": [
       "y    13\n",
       "p    12\n",
       "w    10\n",
       "b     9\n",
       "n     9\n",
       "k     9\n",
       "m     9\n",
       "r     8\n",
       "a     8\n",
       "o     8\n",
       "h     8\n",
       "x     8\n",
       "q     8\n",
       "c     8\n",
       "d     8\n",
       "u     7\n",
       "v     7\n",
       "t     7\n",
       "z     7\n",
       "e     6\n",
       "f     6\n",
       "j     6\n",
       "g     5\n",
       "i     5\n",
       "s     5\n",
       "l     4\n",
       "dtype: int64"
      ]
     },
     "execution_count": 30,
     "metadata": {},
     "output_type": "execute_result"
    }
   ],
   "source": [
    "letters.value_counts()"
   ]
  },
  {
   "cell_type": "code",
   "execution_count": 31,
   "metadata": {},
   "outputs": [
    {
     "data": {
      "text/plain": [
       "[Text(0.5, 0, 'Letter'), Text(0, 0.5, 'Frequency')]"
      ]
     },
     "execution_count": 31,
     "metadata": {},
     "output_type": "execute_result"
    },
    {
     "data": {
      "image/png": "[encoded data removed]",
      "text/plain": [
       "<Figure size 432x288 with 1 Axes>"
      ]
     },
     "metadata": {
      "needs_background": "light"
     },
     "output_type": "display_data"
    }
   ],
   "source": [
    "letters.value_counts().plot.bar(rot=0).set(xlabel='Letter', ylabel='Frequency')"
   ]
  },
  {
   "cell_type": "code",
   "execution_count": 32,
   "metadata": {},
   "outputs": [
    {
     "data": {
      "text/plain": [
       "y    13\n",
       "dtype: int64"
      ]
     },
     "execution_count": 32,
     "metadata": {},
     "output_type": "execute_result"
    }
   ],
   "source": [
    "# 1. Which letter occurs the most frequently in the letters Series?\n",
    "letters.value_counts().nlargest(n=1)\n",
    "\n",
    "# 'y' at 13 is the most frequent letter in the series"
   ]
  },
  {
   "cell_type": "code",
   "execution_count": 33,
   "metadata": {},
   "outputs": [
    {
     "data": {
      "text/plain": [
       "l    4\n",
       "dtype: int64"
      ]
     },
     "execution_count": 33,
     "metadata": {},
     "output_type": "execute_result"
    }
   ],
   "source": [
    "# 2. Which letter occurs the Least frequently?\n",
    "\n",
    "letters.value_counts().nsmallest(n=1, keep='all')\n",
    "\n",
    "# 'l' at 4 is the least frequent letter in the series"
   ]
  },
  {
   "cell_type": "code",
   "execution_count": 34,
   "metadata": {},
   "outputs": [],
   "source": [
    "# alternative method\n",
    "# letters.value_counts().tail()"
   ]
  },
  {
   "cell_type": "code",
   "execution_count": 35,
   "metadata": {},
   "outputs": [
    {
     "data": {
      "text/plain": [
       "34"
      ]
     },
     "execution_count": 35,
     "metadata": {},
     "output_type": "execute_result"
    }
   ],
   "source": [
    "# 3. How many vowels are in the Series?\n",
    "\n",
    "sum(letters.str.count('[aeiou]'))\n",
    "\n",
    "# there is a total of 34 vowels in the 'letters' series"
   ]
  },
  {
   "cell_type": "code",
   "execution_count": 36,
   "metadata": {},
   "outputs": [
    {
     "data": {
      "text/plain": [
       "False    166\n",
       "True      34\n",
       "dtype: int64"
      ]
     },
     "execution_count": 36,
     "metadata": {},
     "output_type": "execute_result"
    }
   ],
   "source": [
    "# problem 3 alternative method\n",
    "\n",
    "vowels = list('aeiou')\n",
    "letters.isin(vowels).value_counts()"
   ]
  },
  {
   "cell_type": "code",
   "execution_count": 37,
   "metadata": {},
   "outputs": [
    {
     "data": {
      "text/plain": [
       "166"
      ]
     },
     "execution_count": 37,
     "metadata": {},
     "output_type": "execute_result"
    }
   ],
   "source": [
    "# 4. How many consonants are in the Series?\n",
    "\n",
    "def consonant_count(string):\n",
    "    counter = 0\n",
    "    for char in string:\n",
    "        if char not in 'aeiou':\n",
    "            counter += 1\n",
    "    return counter\n",
    "            \n",
    "\n",
    "# print(consonant_count('hello')) should return 3....and does check out!\n",
    "# now we can pass this created function into our letter series \n",
    "\n",
    "sum(letters.apply(consonant_count))\n",
    "\n",
    "# there is a total of 166 consonants in the 'letters' series\n",
    "# see above for alternative method -- where 'FALSE' = cosonant"
   ]
  },
  {
   "cell_type": "code",
   "execution_count": 38,
   "metadata": {},
   "outputs": [
    {
     "data": {
      "text/plain": [
       "0      H\n",
       "1      N\n",
       "2      V\n",
       "3      I\n",
       "4      D\n",
       "      ..\n",
       "195    R\n",
       "196    O\n",
       "197    G\n",
       "198    U\n",
       "199    Y\n",
       "Length: 200, dtype: object"
      ]
     },
     "execution_count": 38,
     "metadata": {},
     "output_type": "execute_result"
    }
   ],
   "source": [
    "# 5. Create a Series that has all of the same letters but uppercased.\n",
    "\n",
    "uppercased_letters = letters.str.upper()\n",
    "uppercased_letters"
   ]
  },
  {
   "cell_type": "code",
   "execution_count": 39,
   "metadata": {},
   "outputs": [
    {
     "data": {
      "text/plain": [
       "[Text(0.5, 0, 'Letter'), Text(0, 0.5, 'Frequency')]"
      ]
     },
     "execution_count": 39,
     "metadata": {},
     "output_type": "execute_result"
    },
    {
     "data": {
      "image/png": "[encoded data removed]",
      "text/plain": [
       "<Figure size 432x288 with 1 Axes>"
      ]
     },
     "metadata": {
      "needs_background": "light"
     },
     "output_type": "display_data"
    }
   ],
   "source": [
    "# 6. Create a bar plot of the frequencies of the 6 most commonly occuring letters.\n",
    "\n",
    "letters.value_counts().head(6).plot.bar(rot=0, title='Top Six (6) Letters').set(xlabel='Letter', ylabel='Frequency')\n"
   ]
  },
  {
   "cell_type": "code",
   "execution_count": 40,
   "metadata": {},
   "outputs": [
    {
     "name": "stderr",
     "output_type": "stream",
     "text": [
      "/opt/anaconda3/lib/python3.9/site-packages/pandas/_config/config.py:653: FutureWarning: As the xlwt package is no longer maintained, the xlwt engine will be removed in a future version of pandas. This is the only engine in pandas that supports writing in the xls format. Install openpyxl and write to an xlsx file instead.\n",
      "  warnings.warn(d.msg, FutureWarning)\n",
      "/opt/anaconda3/lib/python3.9/site-packages/pandas/_config/config.py:653: FutureWarning: \n",
      ": boolean\n",
      "    use_inf_as_null had been deprecated and will be removed in a future\n",
      "    version. Use `use_inf_as_na` instead.\n",
      "\n",
      "  warnings.warn(d.msg, FutureWarning)\n"
     ]
    },
    {
     "data": {
      "text/plain": [
       "dtype('O')"
      ]
     },
     "execution_count": 40,
     "metadata": {},
     "output_type": "execute_result"
    }
   ],
   "source": [
    "#  1. What is the data type of the numbers Series?\n",
    "\n",
    "numbers = pd.Series(['$796,459.41', '$278.60', '$482,571.67', '$4,503,915.98', '$2,121,418.3', '$1,260,813.3', '$87,231.01', '$1,509,175.45', '$4,138,548.00', '$2,848,913.80', '$594,715.39', '$4,789,988.17', '$4,513,644.5', '$3,191,059.97', '$1,758,712.24', '$4,338,283.54', '$4,738,303.38', '$2,791,759.67', '$769,681.94', '$452,650.23'])\n",
    "\n",
    "pd.reset_option('all')\n",
    "numbers.dtype\n",
    "# numbers.describe()\n",
    "\n",
    "# series is an 'object' data type"
   ]
  },
  {
   "cell_type": "code",
   "execution_count": 41,
   "metadata": {},
   "outputs": [
    {
     "data": {
      "text/plain": [
       "20"
      ]
     },
     "execution_count": 41,
     "metadata": {},
     "output_type": "execute_result"
    }
   ],
   "source": [
    "# returning the total number of ELEMENTS in the series\n",
    "numbers.size"
   ]
  },
  {
   "cell_type": "code",
   "execution_count": 42,
   "metadata": {},
   "outputs": [
    {
     "data": {
      "text/plain": [
       "0       $796,459.41\n",
       "1           $278.60\n",
       "2       $482,571.67\n",
       "3     $4,503,915.98\n",
       "4      $2,121,418.3\n",
       "5      $1,260,813.3\n",
       "6        $87,231.01\n",
       "7     $1,509,175.45\n",
       "8     $4,138,548.00\n",
       "9     $2,848,913.80\n",
       "10      $594,715.39\n",
       "11    $4,789,988.17\n",
       "12     $4,513,644.5\n",
       "13    $3,191,059.97\n",
       "14    $1,758,712.24\n",
       "15    $4,338,283.54\n",
       "16    $4,738,303.38\n",
       "17    $2,791,759.67\n",
       "18      $769,681.94\n",
       "19      $452,650.23\n",
       "dtype: object"
      ]
     },
     "execution_count": 42,
     "metadata": {},
     "output_type": "execute_result"
    }
   ],
   "source": [
    "numbers"
   ]
  },
  {
   "cell_type": "code",
   "execution_count": 43,
   "metadata": {},
   "outputs": [
    {
     "data": {
      "text/plain": [
       "count              20\n",
       "unique             20\n",
       "top       $796,459.41\n",
       "freq                1\n",
       "dtype: object"
      ]
     },
     "execution_count": 43,
     "metadata": {},
     "output_type": "execute_result"
    }
   ],
   "source": [
    "# 2. How many elements are in the number Series?\n",
    "\n",
    "numbers.describe()\n",
    "# numbers.index\n",
    "\n",
    "# there are 20 elements in the series"
   ]
  },
  {
   "cell_type": "code",
   "execution_count": 44,
   "metadata": {},
   "outputs": [],
   "source": [
    "# 3. Perform the necessary manipulations by accessing Series attributes \n",
    "# and methods to convert the numbers Series to a numeric data type\n",
    "\n",
    "numbers_copy = numbers.copy()"
   ]
  },
  {
   "cell_type": "code",
   "execution_count": 45,
   "metadata": {},
   "outputs": [
    {
     "name": "stderr",
     "output_type": "stream",
     "text": [
      "/var/folders/rh/x31f4b0x1p983mw3qx5b0zsh0000gn/T/ipykernel_13730/1149226722.py:1: FutureWarning: The default value of regex will change from True to False in a future version. In addition, single character regular expressions will *not* be treated as literal strings when regex=True.\n",
      "  numbers_copy = numbers_copy.str.replace('$', '')\n"
     ]
    },
    {
     "data": {
      "text/plain": [
       "0       796,459.41\n",
       "1           278.60\n",
       "2       482,571.67\n",
       "3     4,503,915.98\n",
       "4      2,121,418.3\n",
       "5      1,260,813.3\n",
       "6        87,231.01\n",
       "7     1,509,175.45\n",
       "8     4,138,548.00\n",
       "9     2,848,913.80\n",
       "10      594,715.39\n",
       "11    4,789,988.17\n",
       "12     4,513,644.5\n",
       "13    3,191,059.97\n",
       "14    1,758,712.24\n",
       "15    4,338,283.54\n",
       "16    4,738,303.38\n",
       "17    2,791,759.67\n",
       "18      769,681.94\n",
       "19      452,650.23\n",
       "dtype: object"
      ]
     },
     "execution_count": 45,
     "metadata": {},
     "output_type": "execute_result"
    }
   ],
   "source": [
    "numbers_copy = numbers_copy.str.replace('$', '')\n",
    "numbers_copy"
   ]
  },
  {
   "cell_type": "code",
   "execution_count": 46,
   "metadata": {},
   "outputs": [
    {
     "data": {
      "text/plain": [
       "0      796459.41\n",
       "1         278.60\n",
       "2      482571.67\n",
       "3     4503915.98\n",
       "4      2121418.3\n",
       "5      1260813.3\n",
       "6       87231.01\n",
       "7     1509175.45\n",
       "8     4138548.00\n",
       "9     2848913.80\n",
       "10     594715.39\n",
       "11    4789988.17\n",
       "12     4513644.5\n",
       "13    3191059.97\n",
       "14    1758712.24\n",
       "15    4338283.54\n",
       "16    4738303.38\n",
       "17    2791759.67\n",
       "18     769681.94\n",
       "19     452650.23\n",
       "dtype: object"
      ]
     },
     "execution_count": 46,
     "metadata": {},
     "output_type": "execute_result"
    }
   ],
   "source": [
    "numbers_copy = numbers_copy.str.replace(',', '')\n",
    "numbers_copy"
   ]
  },
  {
   "cell_type": "code",
   "execution_count": 47,
   "metadata": {},
   "outputs": [
    {
     "data": {
      "text/plain": [
       "dtype('float64')"
      ]
     },
     "execution_count": 47,
     "metadata": {},
     "output_type": "execute_result"
    }
   ],
   "source": [
    "numbers_copy = numbers_copy.astype('float')\n",
    "numbers_copy.dtype # series type successfully changed from 'object' to 'float'"
   ]
  },
  {
   "cell_type": "code",
   "execution_count": 48,
   "metadata": {},
   "outputs": [
    {
     "data": {
      "text/plain": [
       "4789988.17"
      ]
     },
     "execution_count": 48,
     "metadata": {},
     "output_type": "execute_result"
    }
   ],
   "source": [
    "#  4. Run the code to discover the maximum value from the Series.\n",
    "\n",
    "numbers_copy.max()\n",
    "\n",
    "# max value in the series: 478998817.0\n",
    "# alternative -- can also use numbers_copy.nlargest(n=1) syntax"
   ]
  },
  {
   "cell_type": "code",
   "execution_count": 49,
   "metadata": {},
   "outputs": [
    {
     "data": {
      "text/plain": [
       "278.6"
      ]
     },
     "execution_count": 49,
     "metadata": {},
     "output_type": "execute_result"
    }
   ],
   "source": [
    "# 5. Run the code to discover the minimum value from the Series.\n",
    "\n",
    "numbers_copy.min()\n",
    "# min value in the series: 27860.0\n",
    "# alternatively -- can also use numbers_copy.nsmallest(n=1) syntax"
   ]
  },
  {
   "cell_type": "code",
   "execution_count": 50,
   "metadata": {},
   "outputs": [
    {
     "name": "stdout",
     "output_type": "stream",
     "text": [
      "series min: 278.6 -- series max: 4789988.17\n"
     ]
    }
   ],
   "source": [
    "#  6. What is the range of the values in the Series?\n",
    "\n",
    "num_range = numbers_copy.between(left=278.60, right=478998817.0)\n",
    "max_limit = numbers_copy[num_range].max()\n",
    "min_limit = numbers_copy[num_range].min()\n",
    "\n",
    "print(f'series min: {min_limit} -- series max: {max_limit}')"
   ]
  },
  {
   "cell_type": "code",
   "execution_count": 51,
   "metadata": {},
   "outputs": [
    {
     "data": {
      "text/plain": [
       "count    2.000000e+01\n",
       "mean     2.284406e+06\n",
       "std      1.735261e+06\n",
       "min      2.786000e+02\n",
       "25%      7.259403e+05\n",
       "50%      1.940065e+06\n",
       "75%      4.188482e+06\n",
       "max      4.789988e+06\n",
       "dtype: float64"
      ]
     },
     "execution_count": 51,
     "metadata": {},
     "output_type": "execute_result"
    }
   ],
   "source": [
    "numbers_copy.describe()"
   ]
  },
  {
   "cell_type": "code",
   "execution_count": 62,
   "metadata": {},
   "outputs": [
    {
     "data": {
      "text/plain": [
       "0        (-4511.11, 1197705.993]\n",
       "1        (-4511.11, 1197705.993]\n",
       "2        (-4511.11, 1197705.993]\n",
       "3      (3592560.778, 4789988.17]\n",
       "4     (1197705.993, 2395133.385]\n",
       "5     (1197705.993, 2395133.385]\n",
       "6        (-4511.11, 1197705.993]\n",
       "7     (1197705.993, 2395133.385]\n",
       "8      (3592560.778, 4789988.17]\n",
       "9     (2395133.385, 3592560.778]\n",
       "10       (-4511.11, 1197705.993]\n",
       "11     (3592560.778, 4789988.17]\n",
       "12     (3592560.778, 4789988.17]\n",
       "13    (2395133.385, 3592560.778]\n",
       "14    (1197705.993, 2395133.385]\n",
       "15     (3592560.778, 4789988.17]\n",
       "16     (3592560.778, 4789988.17]\n",
       "17    (2395133.385, 3592560.778]\n",
       "18       (-4511.11, 1197705.993]\n",
       "19       (-4511.11, 1197705.993]\n",
       "dtype: category\n",
       "Categories (4, interval[float64, right]): [(-4511.11, 1197705.993] < (1197705.993, 2395133.385] < (2395133.385, 3592560.778] < (3592560.778, 4789988.17]]"
      ]
     },
     "execution_count": 62,
     "metadata": {},
     "output_type": "execute_result"
    }
   ],
   "source": [
    "# 7. Bin the data into 4 equally sized intervals or bins and output how many values fall into each bin\n",
    "\n",
    "# bin expression = pd.cut(s, bins=n)\n",
    "\n",
    "lst_of_bins = [278.59, 1197428, 2394856, 3592284, 4789988.17]\n",
    "numbers_binned = pd.cut(numbers_copy, bins=4)\n",
    "numbers_binned\n"
   ]
  },
  {
   "cell_type": "code",
   "execution_count": 64,
   "metadata": {},
   "outputs": [
    {
     "data": {
      "text/plain": [
       "'\\n(278.59, 1197428.0]        7\\n(3592284.0, 4789988.17]    6\\n(1197428.0, 2394856.0]     4\\n(2394856.0, 3592284.0]     3\\n'"
      ]
     },
     "execution_count": 64,
     "metadata": {},
     "output_type": "execute_result"
    }
   ],
   "source": [
    "numbers_binned.value_counts()\n",
    "\n",
    "# bin distribution\n",
    "'''\n",
    "(278.59, 1197428.0]        7\n",
    "(3592284.0, 4789988.17]    6\n",
    "(1197428.0, 2394856.0]     4\n",
    "(2394856.0, 3592284.0]     3\n",
    "'''"
   ]
  },
  {
   "cell_type": "code",
   "execution_count": 54,
   "metadata": {},
   "outputs": [
    {
     "data": {
      "text/plain": [
       "<matplotlib.legend.Legend at 0x7f7ab876ea00>"
      ]
     },
     "execution_count": 54,
     "metadata": {},
     "output_type": "execute_result"
    },
    {
     "data": {
      "image/png": "[encoded data removed]",
      "text/plain": [
       "<Figure size 864x864 with 1 Axes>"
      ]
     },
     "metadata": {
      "needs_background": "light"
     },
     "output_type": "display_data"
    }
   ],
   "source": [
    "# 8. Plot the binned data in a meaningful way. Be sure to include a title and axis labels.\n",
    "\n",
    "plt.figure(figsize= (12, 12))\n",
    "plt.style.use('seaborn')\n",
    "\n",
    "numbers_binned.value_counts().sort_index().plot.bar(rot='0', fontsize=11, title='Disbrution of Numbers', label='bins').set(xlabel='Distribution Bins', ylabel='Frequency')\n",
    "\n",
    "plt.legend(['total in bin'], loc='upper right')"
   ]
  },
  {
   "cell_type": "code",
   "execution_count": 55,
   "metadata": {},
   "outputs": [],
   "source": [
    "# Use pandas to create a Series named exam_scores from the following list:\n",
    "\n",
    "exam_scores = [60, 86, 75, 62, 93, 71, 60, 83, 95, 78, 65, 72, 69, 81, 96, 80, 85, 92, 82, 78]"
   ]
  },
  {
   "cell_type": "code",
   "execution_count": 56,
   "metadata": {},
   "outputs": [],
   "source": [
    "exam_scores = pd.Series([60, 86, 75, 62, 93, 71, 60, 83, 95, 78, 65, 72, 69, 81, 96, 80, 85, 92, 82, 78])"
   ]
  },
  {
   "cell_type": "code",
   "execution_count": 57,
   "metadata": {},
   "outputs": [
    {
     "data": {
      "text/plain": [
       "20"
      ]
     },
     "execution_count": 57,
     "metadata": {},
     "output_type": "execute_result"
    }
   ],
   "source": [
    "# 1. How many elements are in the exam_scores Series?\n",
    "\n",
    "exam_scores.count()\n",
    "\n",
    "# there are 20 elements/exam scores in the series"
   ]
  },
  {
   "cell_type": "code",
   "execution_count": 58,
   "metadata": {},
   "outputs": [
    {
     "name": "stdout",
     "output_type": "stream",
     "text": [
      "exam score min: 60\n",
      "exam score max: 96\n",
      "exam score mean: 78.15\n",
      "exam score median: 79.0\n"
     ]
    }
   ],
   "source": [
    "# 2. Run the code to discover the minimum, the maximum, the mean, and the median scores for the exam_scores Series.\n",
    "\n",
    "print((f'exam score min: {exam_scores.min()}'))\n",
    "print((f'exam score max: {exam_scores.max()}'))\n",
    "print((f'exam score mean: {exam_scores.mean()}'))\n",
    "print((f'exam score median: {exam_scores.median()}'))"
   ]
  },
  {
   "cell_type": "code",
   "execution_count": 59,
   "metadata": {},
   "outputs": [
    {
     "ename": "NameError",
     "evalue": "name 'exam_scores_copy' is not defined",
     "output_type": "error",
     "traceback": [
      "\u001b[0;31m---------------------------------------------------------------------------\u001b[0m",
      "\u001b[0;31mNameError\u001b[0m                                 Traceback (most recent call last)",
      "\u001b[1;32m/Users/mijailmariano/codeup-data-science/numpy-pandas-visualization-exercises/pandas_series.ipynb Cell 58'\u001b[0m in \u001b[0;36m<cell line: 1>\u001b[0;34m()\u001b[0m\n\u001b[0;32m----> <a href='vscode-notebook-cell:/Users/mijailmariano/codeup-data-science/numpy-pandas-visualization-exercises/pandas_series.ipynb#ch0000057?line=0'>1</a>\u001b[0m \u001b[39mdel\u001b[39;00m exam_scores_copy\n",
      "\u001b[0;31mNameError\u001b[0m: name 'exam_scores_copy' is not defined"
     ]
    }
   ],
   "source": [
    "del exam_scores_copy"
   ]
  },
  {
   "cell_type": "code",
   "execution_count": null,
   "metadata": {},
   "outputs": [
    {
     "data": {
      "text/plain": [
       "0     60\n",
       "1     86\n",
       "2     75\n",
       "3     62\n",
       "4     93\n",
       "5     71\n",
       "6     60\n",
       "7     83\n",
       "8     95\n",
       "9     78\n",
       "10    65\n",
       "11    72\n",
       "12    69\n",
       "13    81\n",
       "14    96\n",
       "15    80\n",
       "16    85\n",
       "17    92\n",
       "18    82\n",
       "19    78\n",
       "dtype: int64"
      ]
     },
     "execution_count": 221,
     "metadata": {},
     "output_type": "execute_result"
    }
   ],
   "source": [
    "exam_scores"
   ]
  },
  {
   "cell_type": "code",
   "execution_count": null,
   "metadata": {},
   "outputs": [],
   "source": [
    "exam_scores_copy = exam_scores.copy"
   ]
  },
  {
   "cell_type": "code",
   "execution_count": null,
   "metadata": {},
   "outputs": [
    {
     "data": {
      "text/plain": [
       "60    2\n",
       "78    2\n",
       "82    1\n",
       "95    1\n",
       "93    1\n",
       "92    1\n",
       "86    1\n",
       "85    1\n",
       "83    1\n",
       "81    1\n",
       "62    1\n",
       "80    1\n",
       "75    1\n",
       "72    1\n",
       "71    1\n",
       "69    1\n",
       "65    1\n",
       "96    1\n",
       "dtype: int64"
      ]
     },
     "execution_count": 224,
     "metadata": {},
     "output_type": "execute_result"
    }
   ],
   "source": [
    "# 3. Plot the Series in a meaningful way and make sure your chart has a title and axis labels.\n",
    "exam_scores_copy.value_counts()"
   ]
  },
  {
   "cell_type": "code",
   "execution_count": null,
   "metadata": {},
   "outputs": [
    {
     "data": {
      "text/plain": [
       "<AxesSubplot:title={'center':'History Exam Recap'}, xlabel='Exam Scores', ylabel='Frequency'>"
      ]
     },
     "execution_count": 225,
     "metadata": {},
     "output_type": "execute_result"
    },
    {
     "data": {
      "image/png": "[encoded data removed]",
      "text/plain": [
       "<Figure size 864x864 with 1 Axes>"
      ]
     },
     "metadata": {},
     "output_type": "display_data"
    }
   ],
   "source": [
    "# notes\n",
    "# above I've sorted the 'exam_scores_copy' series by values (exam scores)\n",
    "# I want to plot the series titled, 'exam_scores_copy'\n",
    "# include x and y labels\n",
    "\n",
    "plt.figure(figsize= (12, 12))\n",
    "exam_scores_copy.value_counts().sort_index().plot.bar(rot=0,fontsize=12, title='History Exam Recap', xlabel='Exam Scores', ylabel='Frequency')"
   ]
  },
  {
   "cell_type": "code",
   "execution_count": null,
   "metadata": {},
   "outputs": [
    {
     "name": "stdout",
     "output_type": "stream",
     "text": [
      "4\n"
     ]
    },
    {
     "data": {
      "text/plain": [
       "0      64\n",
       "6      64\n",
       "3      66\n",
       "10     69\n",
       "12     73\n",
       "5      75\n",
       "11     76\n",
       "2      79\n",
       "9      82\n",
       "19     82\n",
       "15     84\n",
       "13     85\n",
       "18     86\n",
       "7      87\n",
       "16     89\n",
       "1      90\n",
       "17     96\n",
       "4      97\n",
       "8      99\n",
       "14    100\n",
       "dtype: int64"
      ]
     },
     "execution_count": 233,
     "metadata": {},
     "output_type": "execute_result"
    }
   ],
   "source": [
    "# 4. Write the code necessary to implement a curve for your exam_grades Series and save this as curved_grades.\n",
    "# Add the necessary points to the highest grade to make it 100\n",
    "# and add the same number of points to every other score in the Series as well.\n",
    "\n",
    "print(100 - exam_scores_copy.max())\n",
    "curved_grades = exam_scores_copy.add(4)\n",
    "curved_grades\n"
   ]
  },
  {
   "cell_type": "code",
   "execution_count": null,
   "metadata": {},
   "outputs": [
    {
     "data": {
      "text/plain": [
       "64     2\n",
       "82     2\n",
       "86     1\n",
       "99     1\n",
       "97     1\n",
       "96     1\n",
       "90     1\n",
       "89     1\n",
       "87     1\n",
       "85     1\n",
       "66     1\n",
       "84     1\n",
       "79     1\n",
       "76     1\n",
       "75     1\n",
       "73     1\n",
       "69     1\n",
       "100    1\n",
       "dtype: int64"
      ]
     },
     "execution_count": 234,
     "metadata": {},
     "output_type": "execute_result"
    }
   ],
   "source": [
    "curved_grades.value_counts()"
   ]
  },
  {
   "cell_type": "code",
   "execution_count": null,
   "metadata": {},
   "outputs": [
    {
     "data": {
      "text/plain": [
       "<AxesSubplot:>"
      ]
     },
     "execution_count": 252,
     "metadata": {},
     "output_type": "execute_result"
    },
    {
     "data": {
      "image/png": "[encoded data removed]",
      "text/plain": [
       "<Figure size 576x396 with 1 Axes>"
      ]
     },
     "metadata": {},
     "output_type": "display_data"
    }
   ],
   "source": [
    "#  5. Use a method to convert each of the numeric values in the curved_grades Series into a categorical value of letter grades. \n",
    "# For example, 86 should be a 'B' and 95 should be an 'A'. \n",
    "# Save this as a Series named letter_grades.\n",
    "\n",
    "# can use a 'bin' method to do this...\n",
    "\n",
    "binned_scores = pd.cut(exam_scores_copy, bins=[0, 50, 69, 79, 89, 100], labels=['F', 'D', 'C', 'B', 'A']).value_counts().sort_index().plot.bar(rot=0)\n",
    "binned_scores"
   ]
  },
  {
   "cell_type": "code",
   "execution_count": null,
   "metadata": {},
   "outputs": [],
   "source": []
  }
 ],
 "metadata": {
  "interpreter": {
   "hash": "40d3a090f54c6569ab1632332b64b2c03c39dcf918b08424e98f38b5ae0af88f"
  },
  "kernelspec": {
   "display_name": "Python 3.9.12 ('base')",
   "language": "python",
   "name": "python3"
  },
  "language_info": {
   "codemirror_mode": {
    "name": "ipython",
    "version": 3
   },
   "file_extension": ".py",
   "mimetype": "text/x-python",
   "name": "python",
   "nbconvert_exporter": "python",
   "pygments_lexer": "ipython3",
   "version": "3.9.12"
  },
  "orig_nbformat": 4
 },
 "nbformat": 4,
 "nbformat_minor": 2
}
